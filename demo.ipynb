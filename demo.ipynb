{
 "cells": [
  {
   "cell_type": "code",
   "execution_count": 1,
   "metadata": {},
   "outputs": [
    {
     "name": "stdout",
     "output_type": "stream",
     "text": [
      "Error: JiraError HTTP 401 url: https://jirasimplelib.atlassian.net/rest/api/2/myself\n",
      "\ttext: Client must be authenticated to access this resource.\n",
      "\t\n",
      "\tresponse headers = {'Date': 'Mon, 08 Jul 2024 11:03:22 GMT', 'Content-Type': 'text/html;charset=UTF-8', 'Content-Length': '53', 'Server': 'AtlassianEdge', 'Timing-Allow-Origin': '*', 'X-Arequestid': '713013dee4090481bdceb23a30132ab1', 'X-Seraph-Loginreason': 'AUTHENTICATED_FAILED', 'Cache-Control': 'no-cache, no-store, no-transform', 'Www-Authenticate': 'OAuth realm=\"https%3A%2F%2Fjirasimplelib.atlassian.net\", OAuth realm=\"https%3A%2F%2Fjirasimplelib.atlassian.net\"', 'X-Frame-Options': 'SAMEORIGIN', 'X-Content-Type-Options': 'nosniff', 'X-Xss-Protection': '1; mode=block', 'Atl-Traceid': 'fdbe61f5d4fd47fdb78120b93b911a06', 'Strict-Transport-Security': 'max-age=63072000; includeSubDomains; preload', 'Report-To': '{\"endpoints\": [{\"url\": \"https://dz8aopenkvv6s.cloudfront.net\"}], \"group\": \"endpoint-1\", \"include_subdomains\": true, \"max_age\": 600}', 'Nel': '{\"failure_fraction\": 0.001, \"include_subdomains\": true, \"max_age\": 600, \"report_to\": \"endpoint-1\"}'}\n",
      "\tresponse text = Client must be authenticated to access this resource.\n"
     ]
    }
   ],
   "source": [
    "from jira import JIRA\n",
    "import getpass\n",
    "import os\n",
    "import sys\n",
    "import json\n",
    "import argparse\n",
    "import logging\n",
    "from jira import JIRA\n",
    "from dotenv import load_dotenv\n",
    "import csv\n",
    "from requests.auth import HTTPBasicAuth\n",
    "from jira.exceptions import JIRAError\n",
    "from datetime import datetime\n",
    "import blessed\n",
    "from blessed import Terminal\n",
    "import logging\n",
    "from jira import JIRAError\n",
    "import requests\n",
    "from ipywidgets import Button, VBox, Text\n",
    "from IPython.display import display\n",
    "import ipywidgets as widgets\n",
    "from IPython.display import display, clear_output\n",
    "jira_url = \"https://jirasimplelib.atlassian.net\"\n",
    "user = \"rimsha.ashfaq@verituslabs.com\"\n",
    "api_token = \"ATATT3xFfGF0Nnf69USKMyeqvq0C4X8fxZc2v4Sn5F4VmxYIjEUjtuik2bqy-abJDodOiNCrakl5Ae5R1U-FlvE5AfNJ3b2ZGOprGWJ3GsEnMilU6Aff32m4xsrWhsQdsgQCwrtAPKRZnNU2DSgvvFlep3Twrd9vvZraD2mlW6aeVp_Q2SG3YT0=848384A6\"\n",
    "# jira = JIRA(server=jira_url, basic_auth=(user, api_token))\n",
    "try:\n",
    "    # Create a JIRA client instance\n",
    "    jira = JIRA(basic_auth=(user, api_token), options={'server': jira_url})\n",
    "\n",
    "    # Example: Retrieve details about the current user\n",
    "    myself = jira.myself()\n",
    "    print(f\"My username: {myself.name}, Display name: {myself.displayName}\")\n",
    "    \n",
    "except Exception as e:\n",
    "    print(f\"Error: {e}\")\n",
    "\n"
   ]
  },
  {
   "cell_type": "code",
   "execution_count": 2,
   "metadata": {},
   "outputs": [
    {
     "name": "stdout",
     "output_type": "stream",
     "text": [
      "Jira connection established successfully.\n"
     ]
    }
   ],
   "source": [
    "\n",
    "def create_jira_connection(jira_url, user, api_token):\n",
    "    \"\"\"\n",
    "    Establishes a connection to the Jira server using the provided credentials.\n",
    "\n",
    "    Args:\n",
    "        jira_url (str): The URL of the Jira server.\n",
    "        username (str): The username for Jira authentication.\n",
    "        api_token (str): The API token for Jira authentication.\n",
    "\n",
    "    Returns:\n",
    "        JIRA: An instance of the JIRA client.\n",
    "\n",
    "    Raises:\n",
    "        ValueError: If any of the inputs (jira_url, username, api_token) are missing.\n",
    "        JIRAError: If there is an error specific to the Jira API.\n",
    "        Exception: For any other exceptions that may occur.\n",
    "    \"\"\"\n",
    "    if not (jira_url and user and api_token):\n",
    "        raise ValueError(\"Missing username, API token, or Jira URL\")\n",
    "\n",
    "    try:\n",
    "        jira = JIRA(basic_auth=(user, api_token), options={\"server\": jira_url})\n",
    "        return jira\n",
    "    except Exception as e:\n",
    "        raise Exception(f\"Error creating Jira connection: {e}\")\n",
    "    \n",
    "def main():\n",
    "    # Attempt to establish Jira connection\n",
    "    if create_jira_connection(jira_url, user, api_token):\n",
    "        print(\"Jira connection established successfully.\")\n",
    "    else:\n",
    "        print(\"Failed to establish Jira connection.\")\n",
    "\n",
    "# Example usage in main or script execution\n",
    "main()\n",
    "\n"
   ]
  },
  {
   "cell_type": "code",
   "execution_count": 3,
   "metadata": {},
   "outputs": [
    {
     "name": "stdout",
     "output_type": "stream",
     "text": [
      "Jira connection established successfully.\n"
     ]
    },
    {
     "data": {
      "application/vnd.jupyter.widget-view+json": {
       "model_id": "5bdcd0986f9c4db5b603bfa84c3e6769",
       "version_major": 2,
       "version_minor": 0
      },
      "text/plain": [
       "VBox(children=(Text(value='', description='Project Name:'), Text(value='', description='Project Key:'), Button…"
      ]
     },
     "metadata": {},
     "output_type": "display_data"
    }
   ],
   "source": [
    "\n",
    "def create_jira_project_widget(jira):\n",
    "    project_name_text = widgets.Text(description='Project Name:')\n",
    "    project_key_text = widgets.Text(description='Project Key:')\n",
    "    create_button = widgets.Button(description='Create Project')\n",
    "\n",
    "    output = widgets.Output()\n",
    "\n",
    "    def create_project(button):\n",
    "        with output:\n",
    "            clear_output()\n",
    "            project_name = project_name_text.value\n",
    "            project_key = project_key_text.value\n",
    "\n",
    "            if not (jira and project_name and project_key):\n",
    "                print(\"Error: Jira connection, project name, and project key must be provided.\")\n",
    "                return\n",
    "\n",
    "            try:\n",
    "                project = jira.create_project(project_key, project_name)\n",
    "                print(f\"Project '{project_name}' created successfully with key '{project_key}'.\")\n",
    "                return project\n",
    "            except Exception as e:\n",
    "                print(f\"Error creating project: {e}\")\n",
    "\n",
    "    create_button.on_click(create_project)\n",
    "    display(widgets.VBox([project_name_text, project_key_text, create_button, output]))\n",
    "    \n",
    "def create_jira_project(jira, project_name=None, project_key=None):\n",
    "    if not (jira and project_name and project_key):\n",
    "        raise ValueError(\"Jira connection, project name, and project key must be provided.\")\n",
    "\n",
    "    try:\n",
    "        project = jira.create_project(project_key, project_name)\n",
    "        print(f\"Project '{project_name}' created successfully with key '{project_key}'.\")\n",
    "        return project\n",
    "    except Exception as e:\n",
    "        print(f\"Error creating project: {e}\")\n",
    "\n",
    "def main():\n",
    "    if create_jira_connection(jira_url, user, api_token):\n",
    "        print(\"Jira connection established successfully.\")\n",
    "    else:\n",
    "        print(\"Failed to establish Jira connection.\")\n",
    "\n",
    "    create_jira_project_widget(jira)\n",
    "\n",
    "# Example usage in main or script execution\n",
    "main()\n",
    "\n",
    "\n"
   ]
  },
  {
   "cell_type": "code",
   "execution_count": 4,
   "metadata": {},
   "outputs": [
    {
     "name": "stdout",
     "output_type": "stream",
     "text": [
      "Jira connection established successfully.\n"
     ]
    },
    {
     "data": {
      "application/vnd.jupyter.widget-view+json": {
       "model_id": "7c021b23fc5b4f47a5caf27ddc95caf9",
       "version_major": 2,
       "version_minor": 0
      },
      "text/plain": [
       "VBox(children=(Text(value='', description='Project Key:'), Text(value='', description='Summary:'), Textarea(va…"
      ]
     },
     "metadata": {},
     "output_type": "display_data"
    }
   ],
   "source": [
    "\n",
    "def create_story_widget(jira):\n",
    "    project_key_text = widgets.Text(description='Project Key:')\n",
    "    summary_text = widgets.Text(description='Summary:')\n",
    "    description_text = widgets.Textarea(description='Description:')\n",
    "    create_button = widgets.Button(description='Create Story')\n",
    "\n",
    "    output = widgets.Output()\n",
    "\n",
    "    def create_story_button_clicked(button):\n",
    "        with output:\n",
    "            clear_output()\n",
    "            project_key = project_key_text.value.strip()\n",
    "            summary = summary_text.value.strip()\n",
    "            description = description_text.value.strip()\n",
    "\n",
    "            if not (jira and project_key and summary and description):\n",
    "                print(\"Error: Jira connection, project key, summary, and description must be provided.\")\n",
    "                return\n",
    "\n",
    "            try:\n",
    "                new_story = create_story(jira, project_key, summary, description)\n",
    "                if new_story:\n",
    "                    print(f\"Story created successfully. Story Key: {new_story.key}\")\n",
    "            except Exception as e:\n",
    "                print(f\"Error creating story: {e}\")\n",
    "\n",
    "    create_button.on_click(create_story_button_clicked)\n",
    "    display(widgets.VBox([project_key_text, summary_text, description_text, create_button, output]))\n",
    "\n",
    "def create_story(jira, project_key, summary, description):\n",
    "    \"\"\"\n",
    "    Creates a new story in Jira.\n",
    "\n",
    "    Args:\n",
    "        jira (JIRA): An authenticated JIRA client instance.\n",
    "        project_key (str): The key of the project where the story will be created.\n",
    "        summary (str): The summary of the story.\n",
    "        description (str): The description of the story.\n",
    "\n",
    "    Returns:\n",
    "        Issue: The created Jira issue if successful, None otherwise.\n",
    "\n",
    "    Raises:\n",
    "        ValueError: If jira connection, project_key, summary, or description is not provided.\n",
    "        JIRAError: If there is an error specific to the Jira API.\n",
    "        Exception: For any other exceptions that may occur.\n",
    "    \"\"\"\n",
    "    if not jira:\n",
    "        logging.error(\"Failed to create story: Jira connection not established.\")\n",
    "        raise ValueError(\"Jira connection must be provided.\")\n",
    "\n",
    "    if not project_key:\n",
    "        logging.error(\"Failed to create story: Project key not provided.\")\n",
    "        raise ValueError(\"Project key must be provided.\")\n",
    "\n",
    "    if not summary:\n",
    "        logging.error(\"Failed to create story: Summary not provided.\")\n",
    "        raise ValueError(\"Summary must be provided.\")\n",
    "\n",
    "    if not description:\n",
    "        logging.error(\"Failed to create story: Description not provided.\")\n",
    "        raise ValueError(\"Description must be provided.\")\n",
    "\n",
    "    try:\n",
    "        new_story = jira.create_issue(\n",
    "            project=project_key,\n",
    "            summary=summary,\n",
    "            description=description,\n",
    "            issuetype={\"name\": \"Task\"},\n",
    "        )\n",
    "        logging.info(f\"Story created successfully. Story Key: {new_story.key}\")\n",
    "        return new_story\n",
    "    except JIRAError as e:\n",
    "        logging.error(f\"Error creating story: {e}\")\n",
    "        raise\n",
    "    except Exception as e:\n",
    "        logging.error(f\"Unexpected error creating story: {e}\")\n",
    "        raise\n",
    "    \n",
    "def main():\n",
    "    if create_jira_connection(jira_url, user, api_token):\n",
    "        print(\"Jira connection established successfully.\")\n",
    "    else:\n",
    "        print(\"Failed to establish Jira connection.\")\n",
    "\n",
    "    create_story_widget(jira)\n",
    "\n",
    "# Example usage in main or script execution\n",
    "main()\n",
    "\n",
    "\n"
   ]
  }
 ],
 "metadata": {
  "kernelspec": {
   "display_name": "py39",
   "language": "python",
   "name": "python3"
  },
  "language_info": {
   "codemirror_mode": {
    "name": "ipython",
    "version": 3
   },
   "file_extension": ".py",
   "mimetype": "text/x-python",
   "name": "python",
   "nbconvert_exporter": "python",
   "pygments_lexer": "ipython3",
   "version": "3.9.19"
  }
 },
 "nbformat": 4,
 "nbformat_minor": 2
}
